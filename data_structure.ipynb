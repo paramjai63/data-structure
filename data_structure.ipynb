{
  "cells": [
    {
      "cell_type": "markdown",
      "source": [
        "1.What are data structures, and why are they important?\n",
        "\n",
        "   . Data structures are systematic ways of organizing, storing, and managing data so it can be used efficiently. Examples include arrays, lists, stacks, queues, trees, graphs, and hash tables. They are important because they determine how quickly and effectively we can perform operations such as searching, inserting, deleting, and updating data. For instance, a hash table provides faster lookup compared to a list. Choosing the right data structure directly affects the performance and scalability of programs.\n",
        "\n",
        "2.Explain the difference between mutable and immutable data types with examples.\n",
        "  \n",
        "  . Mutable data types can be changed after they are created, whereas immutable data types cannot.\n",
        "\n",
        "  . Mutable example: Lists in Python. You can append, update, or remove items (my_list[0] = 10).\n",
        "\n",
        "  . Immutable example: Strings and tuples. Once created, you cannot change their contents (s = \"hello\" cannot be modified directly; instead, a new string is created).\n",
        "  . Mutability impacts memory usage, performance, and data safety in applications.\n",
        "\n",
        "3.What are the main differences between lists and tuples in Python?\n",
        "\n",
        "   . Mutability: Lists are mutable (can be changed), tuples are immutable.\n",
        "\n",
        "   . Syntax: Lists use square brackets [], tuples use parentheses ().\n",
        "\n",
        "   . Performance: Tuples are faster and use less memory compared to lists.\n",
        "\n",
        "   . Usage: Lists are used when the data can change, tuples are used when data  must remain constant.\n",
        "   . Example: list1 = [1, 2, 3] (changeable) vs. tuple1 = (1, 2, 3) (fixed).\n",
        "\n",
        "4.Describe how dictionaries store data.\n",
        "\n",
        "   . Dictionaries in Python store data as key-value pairs using a hash table internally. Each key is hashed into a unique index, and the corresponding value is stored at that position. Keys must be unique and immutable (like strings, numbers, or tuples), while values can be of any data type. This structure allows for very fast lookups, insertions, and deletions, typically in constant time O(1) on average.\n",
        "\n",
        "5.Why might you use a set instead of a list in Python?\n",
        "  \n",
        "   . Sets are used when you need to store unique values without duplicates. Unlike lists, sets automatically eliminate duplicate entries. They are also optimized for membership tests (checking if an element exists) since they use hashing internally, making such operations faster than in lists. For example, finding if a number exists in a set is generally O(1), while in a list, it may take O(n).\n",
        "\n",
        "6.What is a string in Python, and how is it different from a list?\n",
        "  \n",
        "   . A string is a sequence of characters enclosed in single, double, or  triple quotes. It is immutable, meaning once created, its content cannot be changed. A list, on the other hand, is a collection of elements (which can be of different types) and is mutable. Strings are mainly used for text manipulation, while lists are for storing collections of items. Example: \"hello\" vs [1, 2, 3].\n",
        "\n",
        "7.How do tuples ensure data integrity in Python?\n",
        "\n",
        "   . Since tuples are immutable, their contents cannot be changed after creation. This immutability ensures that the stored data remains constant throughout the program, preventing accidental modifications. Tuples are often used for fixed data sets like coordinates (x, y) or configuration values that should not be altered.\n",
        "\n",
        "8.What is a hash table, and how does it relate to dictionaries in Python?\n",
        "\n",
        "   . A hash table is a data structure that maps keys to values using a hashing function to compute an index into an array of buckets. Python’s dictionary is implemented using a hash table. Each dictionary key is hashed, and the result determines where the value is stored. This makes lookups, insertions, and deletions very efficient, usually O(1) time.\n",
        "\n",
        "9.Can lists contain different data types in Python?\n",
        "\n",
        "   . Yes, Python lists can contain elements of mixed data types. For example: [1, \"hello\", 3.5, True] is a valid list. This flexibility comes from Python being a dynamically typed language. However, while useful, mixing types in a list can reduce clarity and may affect performance in some scenarios.      \n",
        "10.Explain why strings are immutable in Python.\n",
        "\n",
        "  . Strings are immutable because once created, they cannot be changed. Any modification (like concatenation, slicing, or replacing characters) creates a new string object in memory. This design improves performance, enhances security (since strings are often used as keys in dictionaries), and ensures consistent behavior across programs.\n",
        "\n",
        "11.What advantages do dictionaries offer over lists for certain tasks?\n",
        "\n",
        "   . Dictionaries allow fast lookups by key, while lists require sequential searching. For example, finding a student’s marks using their name is faster with a dictionary (marks[\"Alice\"]) than searching a list of tuples. Dictionaries also provide better organization when data is best represented as key-value pairs rather than ordered sequences.\n",
        "\n",
        "12.Describe a scenario where using a tuple would be preferable over a list.\n",
        "\n",
        "   . A tuple is preferable when the data should not change. For example, storing geographical coordinates (28.6139, 77.2090) for Delhi makes sense as a tuple since those values should remain constant. Similarly, using tuples as keys in dictionaries is common since they are immutable and hashable.     \n",
        "\n",
        "13.How do sets handle duplicate values in Python?\n",
        "\n",
        "   . Sets automatically remove duplicates. If you add a duplicate element, it is ignored. For example:\n",
        "\n",
        "   . s = {1, 2, 2, 3}\n",
        "   . print(s)  # Output: {1, 2, 3}\n",
        "\n",
        "\n",
        "  . This feature makes sets ideal for eliminating redundant values from data.\n",
        "\n",
        "\n",
        "14.How does the “in” keyword work differently for lists and dictionaries?\n",
        "\n",
        "   . For lists, in checks if a value exists in the list by scanning through all elements. Example: 5 in [1, 2, 5] → True.\n",
        "\n",
        "  . For dictionaries, in checks only the keys, not the values. Example: 2 in {1: \"a\", 2: \"b\"} → True (because key 2 exists).  \n",
        "\n",
        "15.Can you modify the elements of a tuple? Explain why or why not.\n",
        "\n",
        "  . No, tuples are immutable, so their elements cannot be modified after creation. Attempting to reassign a value inside a tuple results in an error. This immutability makes tuples safe for fixed data but limits flexibility compared to lists.   \n",
        "\n",
        "16.What is a nested dictionary, and give an example of its use case.\n",
        "\n",
        "  .A nested dictionary is a dictionary where values themselves are dictionaries. They are used to represent hierarchical or structured data.\n",
        "  .Example:\n",
        "\n",
        "  .student = {\n",
        "  \"name\": \"Ravi\",\n",
        "  \"marks\": {\"math\": 90, \"science\": 85}\n",
        "  }\n",
        "\n",
        "  .this structure is useful in cases like storing database records, JSON data, or configurations.         \n",
        "\n",
        "17.Describe the time complexity of accessing elements in a dictionary.\n",
        "\n",
        " . Accessing elements in a dictionary is O(1) on average, thanks to hash tables. However, in the worst case (when many keys collide due to hashing), it can degrade to O(n). Still, Python’s implementation ensures average-case constant time for most real-world use cases.\n",
        "\n",
        "18.In what situations are lists preferred over dictionaries?\n",
        "\n",
        "  .Lists are preferred when:\n",
        "\n",
        "  .The order of elements matters.\n",
        "\n",
        "  .You need indexed access using positions.\n",
        "\n",
        "  .The dataset doesn’t require unique keys.\n",
        "\n",
        "  . Example: maintaining a list of student roll numbers in the order they enrolled. Dictionaries are more suitable when mapping relationships (e.g., roll number → student name).  \n",
        "\n",
        "\n",
        "19.Why are dictionaries considered unordered, and how does that affect data retrieval?\n",
        "\n",
        "  . In older Python versions (<3.7), dictionaries didn’t guarantee order. Keys were stored based on their hash values, not insertion sequence. From Python 3.7+, dictionaries preserve insertion order, but conceptually, they are still considered unordered because retrieval is based on key hashing, not position. This means you cannot rely on index-based retrieval like lists.\n",
        "\n",
        "20.Explain the difference between a list and a dictionary in terms of data retrieval.\n",
        "\n",
        "  .List: Data is retrieved by index, e.g., mylist[2] returns the element at the 3rd position.\n",
        "\n",
        "  .Dictionary: Data is retrieved by key, e.g., mydict[\"name\"] returns the value associated with \"name\".\n",
        "  .Thus, lists are best when position matters, while dictionaries excel when quick lookups by identifiers are needed."
      ],
      "metadata": {
        "id": "6pH9pQ4kVj5e"
      },
      "id": "6pH9pQ4kVj5e"
    },
    {
      "cell_type": "code",
      "source": [
        "\n",
        "name = \"Raviraj\"\n",
        "print(name)"
      ],
      "metadata": {
        "id": "TznG5kPQcH-5"
      },
      "id": "TznG5kPQcH-5",
      "execution_count": null,
      "outputs": []
    },
    {
      "cell_type": "code",
      "source": [
        "text = \"Hello World\"\n",
        "print(len(text))\n"
      ],
      "metadata": {
        "id": "I7044PiTdNsa"
      },
      "id": "I7044PiTdNsa",
      "execution_count": null,
      "outputs": []
    },
    {
      "cell_type": "code",
      "source": [
        "text = \"Python Programming\"\n",
        "print(text[:3])\n"
      ],
      "metadata": {
        "id": "dgbVbQWodZyB"
      },
      "id": "dgbVbQWodZyB",
      "execution_count": null,
      "outputs": []
    },
    {
      "cell_type": "code",
      "source": [
        "text = \"hello\"\n",
        "print(text.upper())\n"
      ],
      "metadata": {
        "id": "VnWQXYg0dehN"
      },
      "id": "VnWQXYg0dehN",
      "execution_count": null,
      "outputs": []
    },
    {
      "cell_type": "code",
      "source": [
        "text = \"I like apple\"\n",
        "print(text.replace(\"apple\", \"orange\"))\n"
      ],
      "metadata": {
        "id": "6hTxUoOxdg16"
      },
      "id": "6hTxUoOxdg16",
      "execution_count": null,
      "outputs": []
    },
    {
      "cell_type": "code",
      "source": [
        "my_list = [1, 2, 3, 4, 5]\n",
        "print(my_list)\n"
      ],
      "metadata": {
        "id": "Exi-_uZ5dh2w"
      },
      "id": "Exi-_uZ5dh2w",
      "execution_count": null,
      "outputs": []
    },
    {
      "cell_type": "code",
      "source": [
        "my_list = [1, 2, 3, 4]\n",
        "my_list.append(10)\n",
        "print(my_list)\n"
      ],
      "metadata": {
        "id": "9QxX9-vqdpEC"
      },
      "id": "9QxX9-vqdpEC",
      "execution_count": null,
      "outputs": []
    },
    {
      "cell_type": "code",
      "source": [
        "my_list = [1, 2, 3, 4, 5]\n",
        "my_list.remove(3)\n",
        "print(my_list)\n"
      ],
      "metadata": {
        "id": "3ILkuurvdoD3"
      },
      "id": "3ILkuurvdoD3",
      "execution_count": null,
      "outputs": []
    },
    {
      "cell_type": "code",
      "source": [
        "my_list = ['a', 'b', 'c', 'd']\n",
        "print(my_list[1])\n"
      ],
      "metadata": {
        "id": "pGsbN-GWdxbp"
      },
      "id": "pGsbN-GWdxbp",
      "execution_count": null,
      "outputs": []
    },
    {
      "cell_type": "code",
      "source": [
        "my_list = [10, 20, 30, 40, 50]\n",
        "my_list.reverse()\n",
        "print(my_list)\n"
      ],
      "metadata": {
        "id": "R7_MowX3dyd4"
      },
      "id": "R7_MowX3dyd4",
      "execution_count": null,
      "outputs": []
    },
    {
      "cell_type": "code",
      "source": [
        "my_tuple = (100, 200, 300)\n",
        "print(my_tuple)\n"
      ],
      "metadata": {
        "id": "4MP6CI2wd4vJ"
      },
      "id": "4MP6CI2wd4vJ",
      "execution_count": null,
      "outputs": []
    },
    {
      "cell_type": "code",
      "source": [
        "my_tuple = ('red', 'green', 'blue', 'yellow')\n",
        "print(my_tuple[-2])\n"
      ],
      "metadata": {
        "id": "CGhR64oSd7JL"
      },
      "id": "CGhR64oSd7JL",
      "execution_count": null,
      "outputs": []
    },
    {
      "cell_type": "code",
      "source": [
        "my_tuple = (10, 20, 5, 15)\n",
        "print(min(my_tuple))\n"
      ],
      "metadata": {
        "id": "40oN50ihd-E_"
      },
      "id": "40oN50ihd-E_",
      "execution_count": null,
      "outputs": []
    },
    {
      "cell_type": "code",
      "source": [
        "my_tuple = ('dog', 'cat', 'rabbit')\n",
        "print(my_tuple.index(\"cat\"))\n"
      ],
      "metadata": {
        "id": "ECgEnRf0d_iT"
      },
      "id": "ECgEnRf0d_iT",
      "execution_count": null,
      "outputs": []
    },
    {
      "cell_type": "code",
      "source": [
        "fruits = (\"apple\", \"banana\", \"mango\")\n",
        "print(\"kiwi\" in fruits)\n"
      ],
      "metadata": {
        "id": "kxQOdGR8eB9L"
      },
      "id": "kxQOdGR8eB9L",
      "execution_count": null,
      "outputs": []
    },
    {
      "cell_type": "code",
      "source": [
        "my_set = {'a', 'b', 'c'}\n",
        "print(my_set)\n"
      ],
      "metadata": {
        "id": "y7J9OckIeD3W"
      },
      "id": "y7J9OckIeD3W",
      "execution_count": null,
      "outputs": []
    },
    {
      "cell_type": "code",
      "source": [
        "my_set = {1, 2, 3, 4, 5}\n",
        "my_set.clear()\n",
        "print(my_set)\n"
      ],
      "metadata": {
        "id": "kSY1WcUXeHI_"
      },
      "id": "kSY1WcUXeHI_",
      "execution_count": null,
      "outputs": []
    },
    {
      "cell_type": "code",
      "source": [
        "my_set = {1, 2, 3, 4}\n",
        "my_set.remove(4)\n",
        "print(my_set)\n"
      ],
      "metadata": {
        "id": "z65lvstVeInP"
      },
      "id": "z65lvstVeInP",
      "execution_count": null,
      "outputs": []
    },
    {
      "cell_type": "code",
      "source": [
        "set1 = {1, 2, 3}\n",
        "set2 = {3, 4, 5}\n",
        "print(set1.union(set2))\n"
      ],
      "metadata": {
        "id": "raRYpcmaeM_i"
      },
      "id": "raRYpcmaeM_i",
      "execution_count": null,
      "outputs": []
    },
    {
      "cell_type": "code",
      "source": [
        "set1 = {1, 2, 3}\n",
        "set2 = {2, 3, 4}\n",
        "print(set1.intersection(set2))\n"
      ],
      "metadata": {
        "id": "UfbloydCeOb3"
      },
      "id": "UfbloydCeOb3",
      "execution_count": null,
      "outputs": []
    },
    {
      "cell_type": "code",
      "source": [
        "my_dict = {\"name\": \"John\", \"age\": 25, \"city\": \"New York\"}\n",
        "print(my_dict)\n"
      ],
      "metadata": {
        "id": "GTunTjyweQes"
      },
      "id": "GTunTjyweQes",
      "execution_count": null,
      "outputs": []
    },
    {
      "cell_type": "code",
      "source": [
        "my_dict = {'name': 'John', 'age': 25}\n",
        "my_dict[\"country\"] = \"USA\"\n",
        "print(my_dict)\n"
      ],
      "metadata": {
        "id": "LRpt1WqDeSjs"
      },
      "id": "LRpt1WqDeSjs",
      "execution_count": null,
      "outputs": []
    },
    {
      "cell_type": "code",
      "source": [
        "my_dict = {'name': 'Alice', 'age': 30}\n",
        "print(my_dict[\"name\"])\n"
      ],
      "metadata": {
        "id": "zLLIeL43eWnu"
      },
      "id": "zLLIeL43eWnu",
      "execution_count": null,
      "outputs": []
    },
    {
      "cell_type": "code",
      "source": [
        "my_dict = {'name': 'Bob', 'age': 22, 'city': 'New York'}\n",
        "my_dict.pop(\"age\")\n",
        "print(my_dict)\n"
      ],
      "metadata": {
        "id": "O5PZyrYBeYAL"
      },
      "id": "O5PZyrYBeYAL",
      "execution_count": null,
      "outputs": []
    },
    {
      "cell_type": "code",
      "source": [
        "my_dict = {'name': 'Alice', 'city': 'Paris'}\n",
        "print(\"city\" in my_dict)\n"
      ],
      "metadata": {
        "id": "xFv4dslreZXs"
      },
      "id": "xFv4dslreZXs",
      "execution_count": null,
      "outputs": []
    },
    {
      "cell_type": "code",
      "source": [
        "my_list = [1, 2, 3]\n",
        "my_tuple = (4, 5, 6)\n",
        "my_dict = {\"a\": 10, \"b\": 20}\n",
        "print(my_list, my_tuple, my_dict)\n"
      ],
      "metadata": {
        "id": "EuaNWEIGebmR"
      },
      "id": "EuaNWEIGebmR",
      "execution_count": null,
      "outputs": []
    },
    {
      "cell_type": "code",
      "source": [
        "import random\n",
        "my_list = random.sample(range(1, 101), 5)\n",
        "my_list.sort()\n",
        "print(my_list)\n"
      ],
      "metadata": {
        "id": "7IL_haDBeeY5"
      },
      "id": "7IL_haDBeeY5",
      "execution_count": null,
      "outputs": []
    },
    {
      "cell_type": "code",
      "source": [
        "my_list = [\"apple\", \"banana\", \"cherry\", \"date\", \"fig\"]\n",
        "print(my_list[3])\n"
      ],
      "metadata": {
        "id": "jTFI0FPdeiSV"
      },
      "id": "jTFI0FPdeiSV",
      "execution_count": null,
      "outputs": []
    },
    {
      "cell_type": "code",
      "source": [
        "dict1 = {\"a\": 1, \"b\": 2}\n",
        "dict2 = {\"c\": 3, \"d\": 4}\n",
        "dict1.update(dict2)\n",
        "print(dict1)\n"
      ],
      "metadata": {
        "id": "3s3qov9Uej0j"
      },
      "id": "3s3qov9Uej0j",
      "execution_count": null,
      "outputs": []
    },
    {
      "cell_type": "code",
      "source": [
        "my_list = [\"apple\", \"banana\", \"cherry\", \"apple\"]\n",
        "my_set = set(my_list)\n",
        "print(my_set)\n"
      ],
      "metadata": {
        "id": "Yy2PVC6FelyP"
      },
      "id": "Yy2PVC6FelyP",
      "execution_count": null,
      "outputs": []
    }
  ],
  "metadata": {
    "kernelspec": {
      "display_name": "Python 3",
      "name": "python3"
    },
    "language_info": {
      "name": "python"
    },
    "required_libs": [],
    "colab": {
      "provenance": []
    }
  },
  "nbformat": 4,
  "nbformat_minor": 5
}